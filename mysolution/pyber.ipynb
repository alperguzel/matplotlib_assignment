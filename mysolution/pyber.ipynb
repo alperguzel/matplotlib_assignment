{
 "cells": [
  {
   "cell_type": "code",
   "execution_count": 1,
   "metadata": {},
   "outputs": [],
   "source": [
    "# I neeed to import Dependencies\n",
    "import os\n",
    "import pandas as pd\n",
    "import numpy as np\n",
    "import matplotlib.pyplot as plt\n",
    "import seaborn as sns"
   ]
  },
  {
   "cell_type": "code",
   "execution_count": 2,
   "metadata": {},
   "outputs": [
    {
     "data": {
      "text/html": [
       "<div>\n",
       "<style scoped>\n",
       "    .dataframe tbody tr th:only-of-type {\n",
       "        vertical-align: middle;\n",
       "    }\n",
       "\n",
       "    .dataframe tbody tr th {\n",
       "        vertical-align: top;\n",
       "    }\n",
       "\n",
       "    .dataframe thead th {\n",
       "        text-align: right;\n",
       "    }\n",
       "</style>\n",
       "<table border=\"1\" class=\"dataframe\">\n",
       "  <thead>\n",
       "    <tr style=\"text-align: right;\">\n",
       "      <th></th>\n",
       "      <th>city</th>\n",
       "      <th>driver_count</th>\n",
       "      <th>type</th>\n",
       "    </tr>\n",
       "  </thead>\n",
       "  <tbody>\n",
       "    <tr>\n",
       "      <th>0</th>\n",
       "      <td>Kelseyland</td>\n",
       "      <td>63</td>\n",
       "      <td>Urban</td>\n",
       "    </tr>\n",
       "    <tr>\n",
       "      <th>1</th>\n",
       "      <td>Nguyenbury</td>\n",
       "      <td>8</td>\n",
       "      <td>Urban</td>\n",
       "    </tr>\n",
       "    <tr>\n",
       "      <th>2</th>\n",
       "      <td>East Douglas</td>\n",
       "      <td>12</td>\n",
       "      <td>Urban</td>\n",
       "    </tr>\n",
       "    <tr>\n",
       "      <th>3</th>\n",
       "      <td>West Dawnfurt</td>\n",
       "      <td>34</td>\n",
       "      <td>Urban</td>\n",
       "    </tr>\n",
       "    <tr>\n",
       "      <th>4</th>\n",
       "      <td>Rodriguezburgh</td>\n",
       "      <td>52</td>\n",
       "      <td>Urban</td>\n",
       "    </tr>\n",
       "  </tbody>\n",
       "</table>\n",
       "</div>"
      ],
      "text/plain": [
       "             city  driver_count   type\n",
       "0      Kelseyland            63  Urban\n",
       "1      Nguyenbury             8  Urban\n",
       "2    East Douglas            12  Urban\n",
       "3   West Dawnfurt            34  Urban\n",
       "4  Rodriguezburgh            52  Urban"
      ]
     },
     "execution_count": 2,
     "metadata": {},
     "output_type": "execute_result"
    }
   ],
   "source": [
    "# i have two raw datas, well need to read them\n",
    "city_path = os.path.join('raw_data', 'city_data.csv')\n",
    "ride_path = os.path.join('raw_data', 'ride_data.csv')\n",
    "\n",
    "city_df = pd.read_csv(city_path)\n",
    "ride_df = pd.read_csv(ride_path)\n",
    "city_df.head()\n",
    "# print(len(city_df))\n",
    "# city_df['city']"
   ]
  },
  {
   "cell_type": "code",
   "execution_count": 3,
   "metadata": {},
   "outputs": [
    {
     "data": {
      "text/html": [
       "<div>\n",
       "<style scoped>\n",
       "    .dataframe tbody tr th:only-of-type {\n",
       "        vertical-align: middle;\n",
       "    }\n",
       "\n",
       "    .dataframe tbody tr th {\n",
       "        vertical-align: top;\n",
       "    }\n",
       "\n",
       "    .dataframe thead th {\n",
       "        text-align: right;\n",
       "    }\n",
       "</style>\n",
       "<table border=\"1\" class=\"dataframe\">\n",
       "  <thead>\n",
       "    <tr style=\"text-align: right;\">\n",
       "      <th></th>\n",
       "      <th>city</th>\n",
       "      <th>date</th>\n",
       "      <th>fare</th>\n",
       "      <th>ride_id</th>\n",
       "    </tr>\n",
       "  </thead>\n",
       "  <tbody>\n",
       "    <tr>\n",
       "      <th>0</th>\n",
       "      <td>Sarabury</td>\n",
       "      <td>2016-01-16 13:49:27</td>\n",
       "      <td>38.35</td>\n",
       "      <td>5403689035038</td>\n",
       "    </tr>\n",
       "    <tr>\n",
       "      <th>1</th>\n",
       "      <td>South Roy</td>\n",
       "      <td>2016-01-02 18:42:34</td>\n",
       "      <td>17.49</td>\n",
       "      <td>4036272335942</td>\n",
       "    </tr>\n",
       "    <tr>\n",
       "      <th>2</th>\n",
       "      <td>Wiseborough</td>\n",
       "      <td>2016-01-21 17:35:29</td>\n",
       "      <td>44.18</td>\n",
       "      <td>3645042422587</td>\n",
       "    </tr>\n",
       "    <tr>\n",
       "      <th>3</th>\n",
       "      <td>Spencertown</td>\n",
       "      <td>2016-07-31 14:53:22</td>\n",
       "      <td>6.87</td>\n",
       "      <td>2242596575892</td>\n",
       "    </tr>\n",
       "    <tr>\n",
       "      <th>4</th>\n",
       "      <td>Nguyenbury</td>\n",
       "      <td>2016-07-09 04:42:44</td>\n",
       "      <td>6.28</td>\n",
       "      <td>1543057793673</td>\n",
       "    </tr>\n",
       "  </tbody>\n",
       "</table>\n",
       "</div>"
      ],
      "text/plain": [
       "          city                 date   fare        ride_id\n",
       "0     Sarabury  2016-01-16 13:49:27  38.35  5403689035038\n",
       "1    South Roy  2016-01-02 18:42:34  17.49  4036272335942\n",
       "2  Wiseborough  2016-01-21 17:35:29  44.18  3645042422587\n",
       "3  Spencertown  2016-07-31 14:53:22   6.87  2242596575892\n",
       "4   Nguyenbury  2016-07-09 04:42:44   6.28  1543057793673"
      ]
     },
     "execution_count": 3,
     "metadata": {},
     "output_type": "execute_result"
    }
   ],
   "source": [
    "# i just wanna see all data frames\n",
    "ride_df.head()\n",
    "# print(len(ride_df))"
   ]
  },
  {
   "cell_type": "code",
   "execution_count": 4,
   "metadata": {},
   "outputs": [
    {
     "data": {
      "text/html": [
       "<div>\n",
       "<style scoped>\n",
       "    .dataframe tbody tr th:only-of-type {\n",
       "        vertical-align: middle;\n",
       "    }\n",
       "\n",
       "    .dataframe tbody tr th {\n",
       "        vertical-align: top;\n",
       "    }\n",
       "\n",
       "    .dataframe thead th {\n",
       "        text-align: right;\n",
       "    }\n",
       "</style>\n",
       "<table border=\"1\" class=\"dataframe\">\n",
       "  <thead>\n",
       "    <tr style=\"text-align: right;\">\n",
       "      <th></th>\n",
       "      <th>city</th>\n",
       "      <th>date</th>\n",
       "      <th>fare</th>\n",
       "      <th>ride_id</th>\n",
       "      <th>driver_count</th>\n",
       "      <th>type</th>\n",
       "    </tr>\n",
       "  </thead>\n",
       "  <tbody>\n",
       "    <tr>\n",
       "      <th>0</th>\n",
       "      <td>Sarabury</td>\n",
       "      <td>2016-01-16 13:49:27</td>\n",
       "      <td>38.35</td>\n",
       "      <td>5403689035038</td>\n",
       "      <td>46</td>\n",
       "      <td>Urban</td>\n",
       "    </tr>\n",
       "    <tr>\n",
       "      <th>1</th>\n",
       "      <td>Sarabury</td>\n",
       "      <td>2016-07-23 07:42:44</td>\n",
       "      <td>21.76</td>\n",
       "      <td>7546681945283</td>\n",
       "      <td>46</td>\n",
       "      <td>Urban</td>\n",
       "    </tr>\n",
       "    <tr>\n",
       "      <th>2</th>\n",
       "      <td>Sarabury</td>\n",
       "      <td>2016-04-02 04:32:25</td>\n",
       "      <td>38.03</td>\n",
       "      <td>4932495851866</td>\n",
       "      <td>46</td>\n",
       "      <td>Urban</td>\n",
       "    </tr>\n",
       "    <tr>\n",
       "      <th>3</th>\n",
       "      <td>Sarabury</td>\n",
       "      <td>2016-06-23 05:03:41</td>\n",
       "      <td>26.82</td>\n",
       "      <td>6711035373406</td>\n",
       "      <td>46</td>\n",
       "      <td>Urban</td>\n",
       "    </tr>\n",
       "    <tr>\n",
       "      <th>4</th>\n",
       "      <td>Sarabury</td>\n",
       "      <td>2016-09-30 12:48:34</td>\n",
       "      <td>30.30</td>\n",
       "      <td>6388737278232</td>\n",
       "      <td>46</td>\n",
       "      <td>Urban</td>\n",
       "    </tr>\n",
       "  </tbody>\n",
       "</table>\n",
       "</div>"
      ],
      "text/plain": [
       "       city                 date   fare        ride_id  driver_count   type\n",
       "0  Sarabury  2016-01-16 13:49:27  38.35  5403689035038            46  Urban\n",
       "1  Sarabury  2016-07-23 07:42:44  21.76  7546681945283            46  Urban\n",
       "2  Sarabury  2016-04-02 04:32:25  38.03  4932495851866            46  Urban\n",
       "3  Sarabury  2016-06-23 05:03:41  26.82  6711035373406            46  Urban\n",
       "4  Sarabury  2016-09-30 12:48:34  30.30  6388737278232            46  Urban"
      ]
     },
     "execution_count": 4,
     "metadata": {},
     "output_type": "execute_result"
    }
   ],
   "source": [
    "# probably i  need to merge my two data frames on city names.\n",
    "merge_table = pd.merge(ride_df, city_df, on=\"city\", how='outer')\n",
    "merge_table.head()"
   ]
  },
  {
   "cell_type": "code",
   "execution_count": 5,
   "metadata": {},
   "outputs": [
    {
     "data": {
      "text/plain": [
       "<pandas.core.groupby.DataFrameGroupBy object at 0x113da4eb8>"
      ]
     },
     "execution_count": 5,
     "metadata": {},
     "output_type": "execute_result"
    }
   ],
   "source": [
    "#for Average Fare ($) Per City\n",
    "grouped_city = merge_table.groupby('city')\n",
    "ave_fare = grouped_city['fare'].mean()\n",
    "\n",
    "grouped_city"
   ]
  },
  {
   "cell_type": "code",
   "execution_count": 6,
   "metadata": {},
   "outputs": [
    {
     "data": {
      "text/plain": [
       "city\n",
       "Alvarezhaven            31\n",
       "Alyssaberg              26\n",
       "Anitamouth               9\n",
       "Antoniomouth            22\n",
       "Aprilchester            19\n",
       "Arnoldview              31\n",
       "Campbellport            15\n",
       "Carrollbury             10\n",
       "Carrollfort             29\n",
       "Clarkstad               12\n",
       "Conwaymouth             11\n",
       "Davidtown               21\n",
       "Davistown               25\n",
       "East Cherylfurt         13\n",
       "East Douglas            22\n",
       "East Erin               28\n",
       "East Jenniferchester    19\n",
       "East Leslie             11\n",
       "East Stephen            10\n",
       "East Troybury            7\n",
       "Edwardsbury             27\n",
       "Erikport                 8\n",
       "Eriktown                19\n",
       "Floresberg              10\n",
       "Fosterside              24\n",
       "Hernandezshire           9\n",
       "Horneland                4\n",
       "Jacksonfort              6\n",
       "Jacobfort               31\n",
       "Jasonfort               12\n",
       "                        ..\n",
       "South Roy               22\n",
       "South Shannonborough    15\n",
       "Spencertown             26\n",
       "Stevensport              5\n",
       "Stewartview             30\n",
       "Swansonbury             34\n",
       "Thomastown              24\n",
       "Tiffanyton              13\n",
       "Torresshire             26\n",
       "Travisville             23\n",
       "Vickimouth              15\n",
       "Webstertown             16\n",
       "West Alexis             20\n",
       "West Brandy             30\n",
       "West Brittanyton        24\n",
       "West Dawnfurt           29\n",
       "West Evan               12\n",
       "West Jefferyfurt        21\n",
       "West Kevintown           7\n",
       "West Oscar              29\n",
       "West Pamelaborough      14\n",
       "West Paulport           17\n",
       "West Peter              31\n",
       "West Sydneyhaven        18\n",
       "West Tony               19\n",
       "Williamchester          11\n",
       "Williamshire            31\n",
       "Wiseborough             19\n",
       "Yolandafurt             20\n",
       "Zimmermanmouth          24\n",
       "Name: type, Length: 125, dtype: int64"
      ]
     },
     "execution_count": 6,
     "metadata": {},
     "output_type": "execute_result"
    }
   ],
   "source": [
    "# for Total Number of Rides Per City\n",
    "sum_rides = grouped_city['type'].count()\n",
    "sum_rides"
   ]
  },
  {
   "cell_type": "code",
   "execution_count": 7,
   "metadata": {},
   "outputs": [
    {
     "data": {
      "text/plain": [
       "0      63\n",
       "1       8\n",
       "2      12\n",
       "3      34\n",
       "4      52\n",
       "5       4\n",
       "6      70\n",
       "7      37\n",
       "8      70\n",
       "9      66\n",
       "10     34\n",
       "11     67\n",
       "12     55\n",
       "13     28\n",
       "14     15\n",
       "15     12\n",
       "16     61\n",
       "17     13\n",
       "18     67\n",
       "19     46\n",
       "20      7\n",
       "21     11\n",
       "22     42\n",
       "23     31\n",
       "24     41\n",
       "25     70\n",
       "26     47\n",
       "27     60\n",
       "28     64\n",
       "29     69\n",
       "       ..\n",
       "96     20\n",
       "97     11\n",
       "98     13\n",
       "99     17\n",
       "100     3\n",
       "101    26\n",
       "102    26\n",
       "103    26\n",
       "104    21\n",
       "105    18\n",
       "106     5\n",
       "107    22\n",
       "108     3\n",
       "109     3\n",
       "110     3\n",
       "111     6\n",
       "112     3\n",
       "113     6\n",
       "114     9\n",
       "115     4\n",
       "116     3\n",
       "117     3\n",
       "118     7\n",
       "119     6\n",
       "120    10\n",
       "121     6\n",
       "122     9\n",
       "123    10\n",
       "124     8\n",
       "125     5\n",
       "Name: driver_count, Length: 126, dtype: int64"
      ]
     },
     "execution_count": 7,
     "metadata": {},
     "output_type": "execute_result"
    }
   ],
   "source": [
    "# for Total Number of Drivers Per City\n",
    "sum_driver = city_df['driver_count']\n",
    "sum_driver"
   ]
  },
  {
   "cell_type": "code",
   "execution_count": null,
   "metadata": {},
   "outputs": [],
   "source": [
    "# #for City Type (Urban, Suburban, Rural)\n",
    "# city_type = city_df['type']\n"
   ]
  },
  {
   "cell_type": "code",
   "execution_count": null,
   "metadata": {},
   "outputs": [],
   "source": [
    "# # colors = ['red', 'blue', 'yello']\n",
    "# # color = []\n",
    "# # for type in city_df['type']:\n",
    "# #     if city_df['type'] = 'Urban':\n",
    "# #         color = 'red'\n",
    "# #     elif city_df['type'] = 'Suburban':\n",
    "# #         color = 'blue'\n",
    "# #     elif city_df['type'] = 'Rural':\n",
    "# #         color = 'yellow'\n",
    "# def color (type):\n",
    "#     if city_df['type'] == 'Urban':\n",
    "#         renk = \"gold\"\n",
    "#     elif city_df['type'] == 'Suburban':\n",
    "#         renk = \"skyblue\"\n",
    "#     elif city_df['type'] == 'Rural':\n",
    "#         renk = \"coral\"\n",
    "#     return renk\n",
    "    \n",
    "# colors = np.where(grouped_city['type'] == \"Urban\", 'coral', '-')\n",
    "# colors[grouped_city['type'] == \"Rural\"] = 'gold'\n",
    "# colors[grouped_city['type'] == \"Suburban\"] = 'skyblue'\n",
    "\n",
    "# for color in ['gold', 'skyblue', 'coral']:\n",
    "    \n",
    "# plt.scatter(sum_rides, ave_fare, s=(sum_rides*3), c=colors, alpha=0.5, edgecolor='black', linewidths=1)\n",
    "# plt.xlabel(\"Average Fare $\")\n",
    "# plt.ylabel(\"Total Number of Rides (Per City)\")\n",
    "# plt.grid()\n",
    "# plt.legend(loc='best')\n",
    "# merge_table['color'] = np.where(merge_table['type']=\"Urban\", 'gold', 'bluesky')\n",
    "# merge_table.head()"
   ]
  },
  {
   "cell_type": "code",
   "execution_count": null,
   "metadata": {},
   "outputs": [],
   "source": [
    "# # datalarim neler. sanirim tiplere gore ayirmam lazim\n",
    "# colors = ('gold', 'skyblue', 'coral')\n",
    "# groups = ('Urban', 'Rural', 'Suburban')\n",
    "# data = (sum_rides, ave_fare)\n",
    "\n",
    "# fig = plt.figure()\n",
    "# ax = fig.add_subplot(1, 1, 1, axisbg=\"1.0\")\n",
    "# for data, color, group in zip(data, colors, groups):\n",
    "#     x, y = data\n",
    "#     ax.scatter(x, y, alpha=0.5, c=color, edgecolors='black', s=(sum_rides*2), linewidths=1, label=group)\n",
    "# # plt.scatter(sum_rides, ave_fare, s=(sum_rides*3), alpha=0.5, edgecolor='black', linewidths=1)\n",
    "# plt.xlabel(\"Average Fare $\")\n",
    "# plt.ylabel(\"Total Number of Rides (Per City)\")\n",
    "# plt.grid()\n",
    "# plt.legend(loc='best')"
   ]
  },
  {
   "cell_type": "code",
   "execution_count": 8,
   "metadata": {},
   "outputs": [
    {
     "data": {
      "text/plain": [
       "<matplotlib.legend.Legend at 0x10e1506a0>"
      ]
     },
     "execution_count": 8,
     "metadata": {},
     "output_type": "execute_result"
    },
    {
     "data": {
      "image/png": "[encoded data removed]",
      "text/plain": [
       "<matplotlib.figure.Figure at 0x10ea654a8>"
      ]
     },
     "metadata": {},
     "output_type": "display_data"
    }
   ],
   "source": [
    "plt.scatter(sum_rides, ave_fare, s=(sum_rides*3), alpha=0.5, edgecolor='black', linewidths=1)\n",
    "plt.xlabel(\"Average Fare $\")\n",
    "plt.ylabel(\"Total Number of Rides (Per City)\")\n",
    "plt.grid()\n",
    "plt.legend(loc='best')"
   ]
  },
  {
   "cell_type": "code",
   "execution_count": 22,
   "metadata": {},
   "outputs": [],
   "source": [
    "# # birde kolon ekleyelim merge_table ee\n",
    "# merge_table[\"Colors\"] = np.where((merge_table['type'] = 'Urban'), 'gold', axis=1)\n",
    "# merge_table[\"Colors\"] = np.where((merge_table['type'] = 'Rural'), 'coral', axis=1)\n",
    "# merge_table[\"Colors\"] = np.where((merge_table['type'] = 'Suburban'), 'skyblue', axis=1)\n",
    "\n",
    "# merge_table\n",
    "\n",
    "# colors = []\n",
    "# for typ in merge_table['type']:\n",
    "#     if merge_table['type'] = str(Urban):\n",
    "#         colors.append(str(gold))\n",
    "#     elif merge_table['type'] = str(Rural):\n",
    "#         colors.append(str(coral))\n",
    "#     elif merge_table['type'] = str(Suburban):\n",
    "#         colors.append(str(skyblue))\n",
    "# colors\n",
    "# yada loc mu kullansak\n",
    "# if i create scatter for each indivuals.\n",
    "urban = merge_table[merge_table['type'] == 'Urban']\n",
    "rural = merge_table[merge_table['type'] == 'Rural']\n",
    "suburban = merge_table[merge_table['type'] == 'Suburban']\n",
    "\n",
    "#find the average fare for each types\n",
    "ave_fare_urban = urban.groupby('city')['fare'].mean()\n",
    "ave_fare_rural = rural.groupby('city')['fare'].mean()\n",
    "ave_fare_suburban = suburban.groupby('city')['fare'].mean()\n",
    "\n",
    "#find total number rides\n",
    "sum_rides_urban = urban.groupby('city')['ride_id'].count()\n",
    "sum_rides_rural = rural.groupby('city')['ride_id'].count()\n",
    "sum_rides_suburban = suburban.groupby('city')['ride_id'].count()\n",
    "\n",
    "#find total number of drivers\n",
    "sum_drivers = city_df['driver_count']\n",
    "\n"
   ]
  },
  {
   "cell_type": "code",
   "execution_count": 30,
   "metadata": {},
   "outputs": [
    {
     "data": {
      "text/plain": [
       "<matplotlib.legend.Legend at 0x1a1ee0e518>"
      ]
     },
     "execution_count": 30,
     "metadata": {},
     "output_type": "execute_result"
    },
    {
     "data": {
      "image/png": "[encoded data removed]",
      "text/plain": [
       "<matplotlib.figure.Figure at 0x11835fb70>"
      ]
     },
     "metadata": {},
     "output_type": "display_data"
    }
   ],
   "source": [
    "plt.figure(figsize=(12,8))\n",
    "#now i can create my scatter lot for all indivuals\n",
    "plt.scatter(sum_rides_urban, ave_fare_urban, s=(sum_drivers*5), c='coral', alpha=0.5, edgecolor='black', linewidths=1, label=\"Urban\")\n",
    "plt.scatter(sum_rides_rural, ave_fare_rural, s=(sum_drivers*5), c='gold', alpha=0.5, edgecolor='black', linewidths=1, label=\"Rural\")\n",
    "plt.scatter(sum_rides_suburban, ave_fare_suburban, s=(sum_drivers*5), c='skyblue', alpha=0.5, edgecolor='black', linewidths=1, label=\"Suburban\")\n",
    "\n",
    "plt.xlabel(\"Average Fare $\")\n",
    "plt.ylabel(\"Total Number of Rides (Per City)\")\n",
    "plt.grid()\n",
    "plt.legend(loc='best')\n",
    "\n"
   ]
  },
  {
   "cell_type": "code",
   "execution_count": null,
   "metadata": {},
   "outputs": [],
   "source": [
    "# for percentage pie of Total Fares by City Type\n",
    "grouped_type = merge_table.groupby('type')\n",
    "sum_fare = grouped_type['fare'].sum()\n",
    "total_fare = merge_table[\"fare\"].sum()\n",
    "percentage_fare = sum_fare / total_fare *100\n",
    "percentage_fare"
   ]
  },
  {
   "cell_type": "code",
   "execution_count": null,
   "metadata": {},
   "outputs": [],
   "source": [
    "colors= ['gold', 'lightskyblue', 'lightcoral']\n",
    "explode = [0, 0, 0.1]\n",
    "percentage_fare.plot(kind='pie', colors=colors, explode=explode, shadow=True, startangle=140, autopct='{:.1f}%'.format)\n",
    "plt.axis(\"equal\")\n",
    "plt.title(\"% of Total Fares by City Type\")"
   ]
  },
  {
   "cell_type": "code",
   "execution_count": null,
   "metadata": {},
   "outputs": [],
   "source": [
    "#% of Total Rides by City Type\n",
    "total_ride = grouped_type['ride_id'].count()\n",
    "sum_total_ride = merge_table['ride_id'].count()\n",
    "per_ride = total_ride / sum_total_ride *100\n",
    "per_ride"
   ]
  },
  {
   "cell_type": "code",
   "execution_count": null,
   "metadata": {},
   "outputs": [],
   "source": [
    "per_ride.plot(kind='pie', colors=colors, explode=explode, shadow=True, startangle=140, autopct='{:.1f}%'.format)\n",
    "plt.axis(\"equal\")\n",
    "plt.title(\"% of Total Rides by City Type\")"
   ]
  },
  {
   "cell_type": "code",
   "execution_count": null,
   "metadata": {},
   "outputs": [],
   "source": [
    "#for average of Total Drivers by City Type\n",
    "# i already have the count of driver for each city. just need to groupedby the city_df on type of city\n",
    "grouped_for_driver = city_df.groupby('type')\n",
    "grouped_for_driver.head()"
   ]
  },
  {
   "cell_type": "code",
   "execution_count": null,
   "metadata": {},
   "outputs": [],
   "source": [
    "# the driver_count gives the number of driver for each city.\n",
    "total_driver = grouped_for_driver['driver_count'].sum()\n",
    "sum_of_all_drivers = city_df['driver_count'].sum()\n",
    "per_driver = total_driver / sum_of_all_drivers * 100\n",
    "per_driver"
   ]
  },
  {
   "cell_type": "code",
   "execution_count": null,
   "metadata": {},
   "outputs": [],
   "source": [
    "# per_ride.plot(kind='pie', colors=colors, explode=explode, shadow=True, startangle=140, autopct='{:.1f}%'.format)\n",
    "# plt.axis(\"equal\")\n",
    "# plt.title(\"% of Total Rides by City Type\")\n",
    "per_driver.plot(kind='pie', colors=colors, explode=explode, shadow=True, startangle=140, autopct='{:.1f}%'.format)\n",
    "plt.axis(\"equal\")\n",
    "plt.title(\"% of Total Drivers by City Type\")"
   ]
  },
  {
   "cell_type": "code",
   "execution_count": null,
   "metadata": {},
   "outputs": [],
   "source": []
  },
  {
   "cell_type": "code",
   "execution_count": null,
   "metadata": {},
   "outputs": [],
   "source": []
  },
  {
   "cell_type": "code",
   "execution_count": null,
   "metadata": {},
   "outputs": [],
   "source": []
  }
 ],
 "metadata": {
  "kernelspec": {
   "display_name": "Python 3",
   "language": "python",
   "name": "python3"
  },
  "language_info": {
   "codemirror_mode": {
    "name": "ipython",
    "version": 3
   },
   "file_extension": ".py",
   "mimetype": "text/x-python",
   "name": "python",
   "nbconvert_exporter": "python",
   "pygments_lexer": "ipython3",
   "version": "3.6.4"
  }
 },
 "nbformat": 4,
 "nbformat_minor": 2
}
